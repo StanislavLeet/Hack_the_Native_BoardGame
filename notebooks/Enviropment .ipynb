{
 "cells": [
  {
   "cell_type": "code",
   "execution_count": 1,
   "metadata": {},
   "outputs": [],
   "source": [
    "import numpy as np"
   ]
  },
  {
   "cell_type": "markdown",
   "metadata": {},
   "source": [
    "Description of Architecture:\n",
    "\n",
    "1. Game Enviropment\n",
    "2. Agents\n",
    "3. Total Simulations"
   ]
  },
  {
   "cell_type": "markdown",
   "metadata": {},
   "source": [
    "# 1. Game Enviropment"
   ]
  },
  {
   "cell_type": "code",
   "execution_count": null,
   "metadata": {},
   "outputs": [],
   "source": [
    "class Game:\n",
    "    \"\"\"\n",
    "    class contain boardgame rules, control agents and getting rewards\n",
    "    \n",
    "    :param Agents: list with Agent class\n",
    "    \"\"\"\n",
    "    def __init__(self, Agents):\n",
    "        self._Agents = [ag for ag in Agents]\n",
    "        self._cards = []\n",
    "        self._prairie = []\n",
    "        \n",
    "    \n",
    "    def _generate_card_deck(self):\n",
    "        \"\"\"\n",
    "        init card deck\n",
    "        \n",
    "        deck contain:\n",
    "        \n",
    "        28 man cards (7 for each tribe);\n",
    "        24 woman cards (12 for each tribe);\n",
    "        7 totem cards;\n",
    "        12 rite cards;\n",
    "        18 corn cards;\n",
    "        12 salmon cards;\n",
    "        9 buffalo cards.\n",
    "        \n",
    "        \n",
    "        totem cards:\n",
    "        T1 - 2 score for each buffalo\n",
    "        T2 - 1 score for each salmon\n",
    "        T3 - 1 score for each corn\n",
    "        T4 - 2 score for each scout\n",
    "        T5 - 2 score for each warrior\n",
    "        T6 - 2 score for each shaman\n",
    "        T7 - 2 score for each elder\n",
    "        \n",
    "        \n",
    "        rite cards:\n",
    "        R1 x2 - 4 score, open 3 cards to prairie;\n",
    "        R2 x2 - 1 score, all players, who has more totem + rite cards than you,drop one totem;\n",
    "        R3 x2 - 1 score, all players, who has biggest tribe than your, drop one member of tribe;\n",
    "        R4 x2 - 1 score, all players, who has more food than you, drop one food card;\n",
    "        R5 x4 - 1 score, replace one of your indian to scalps. \n",
    "        \"\"\"\n",
    "        \n",
    "        \n",
    "    \n",
    "    def start_point():\n",
    "        pass"
   ]
  }
 ],
 "metadata": {
  "kernelspec": {
   "display_name": "Python 3",
   "language": "python",
   "name": "python3"
  },
  "language_info": {
   "codemirror_mode": {
    "name": "ipython",
    "version": 3
   },
   "file_extension": ".py",
   "mimetype": "text/x-python",
   "name": "python",
   "nbconvert_exporter": "python",
   "pygments_lexer": "ipython3",
   "version": "3.8.5"
  }
 },
 "nbformat": 4,
 "nbformat_minor": 4
}
